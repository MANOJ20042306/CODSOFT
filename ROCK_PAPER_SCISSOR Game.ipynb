{
 "cells": [
  {
   "cell_type": "code",
   "execution_count": 1,
   "id": "a6232383",
   "metadata": {},
   "outputs": [
    {
     "name": "stdout",
     "output_type": "stream",
     "text": [
      "enter your choice(rock, paper, scissor): rock\n",
      "\n",
      "you choserock),computer chosepaper.\n",
      "\n",
      "paper cover rock you lose\n"
     ]
    }
   ],
   "source": [
    "import random \n",
    "\n",
    "user_action = input(\"enter your choice(rock, paper, scissor): \")\n",
    "possible_actions = [\"rock\", \"paper\", \"scissor\"]\n",
    "computer_action = random.choice(possible_actions)\n",
    "print(f\"\\nyou chose{user_action}),computer chose{computer_action}.\\n\")\n",
    "\n",
    "if user_action == computer_action:\n",
    "    print(f\"both player selected{user_action}.it's a tie\")\n",
    "elif user_action == \"rock\":\n",
    "    if computer_action == \"scissor\":\n",
    "        print(\"rock smash scissor you win\")\n",
    "    else:\n",
    "        print(\"paper cover rock you lose\")\n",
    "elif user_action == \"paper\":\n",
    "    if computer_action == \"rock\":\n",
    "        print(\"paper cover rock you win\")\n",
    "    else:\n",
    "        print(\"scissor cuts paper you lose\")\n",
    "elif user_action == \"scissor\":\n",
    "    if computer_action == \"paper\":\n",
    "        print(\"scissor cuts paper you win\")\n",
    "    else:\n",
    "        print(\"rock smash scissor you lose\")\n",
    "    "
   ]
  },
  {
   "cell_type": "code",
   "execution_count": null,
   "id": "0003163e",
   "metadata": {},
   "outputs": [],
   "source": []
  }
 ],
 "metadata": {
  "kernelspec": {
   "display_name": "Python 3 (ipykernel)",
   "language": "python",
   "name": "python3"
  },
  "language_info": {
   "codemirror_mode": {
    "name": "ipython",
    "version": 3
   },
   "file_extension": ".py",
   "mimetype": "text/x-python",
   "name": "python",
   "nbconvert_exporter": "python",
   "pygments_lexer": "ipython3",
   "version": "3.11.5"
  }
 },
 "nbformat": 4,
 "nbformat_minor": 5
}
