{
 "cells": [
  {
   "cell_type": "code",
   "execution_count": 1,
   "id": "d905a4f0",
   "metadata": {},
   "outputs": [
    {
     "name": "stdout",
     "output_type": "stream",
     "text": [
      "select an operation to perform:\n",
      "1.Add\n",
      "2.Subract\n",
      "3.Multiply\n",
      "4.Divide\n",
      "3\n",
      "enter the first number:21\n",
      "enter the second number:2\n",
      "the sum is 42\n"
     ]
    }
   ],
   "source": [
    "print(\"select an operation to perform:\")\n",
    "print(\"1.Add\")\n",
    "print(\"2.Subract\")\n",
    "print(\"3.Multiply\")\n",
    "print(\"4.Divide\")\n",
    "\n",
    "operation = input()\n",
    "if operation == \"1\":\n",
    "    num1 = input(\"enter the first number:\")\n",
    "    num2 = input(\"enter the second number:\")\n",
    "    print(\"the sum is \" +str(int(num1) + int(num2)))\n",
    "elif operation ==\"2\":\n",
    "    num1 = input(\"enter the first number:\")\n",
    "    num2 = input(\"enter the second number:\")\n",
    "    print(\"the sum is \" +str(int(num1) - int(num2)))\n",
    "elif operation ==\"3\":\n",
    "    num1 = input(\"enter the first number:\")\n",
    "    num2 = input(\"enter the second number:\")\n",
    "    print(\"the sum is \" +str(int(num1) * int(num2)))\n",
    "elif operation ==\"4\":\n",
    "    num1 = input(\"enter the first number:\")\n",
    "    num2 = input(\"enter the second number:\")\n",
    "    print(\"the sum is \" +str(int(num1) / int(num2)))\n",
    "else:\n",
    "    print(\"Invalid entry\")\n",
    "\n",
    "    \n"
   ]
  },
  {
   "cell_type": "code",
   "execution_count": null,
   "id": "237008c9",
   "metadata": {},
   "outputs": [],
   "source": []
  }
 ],
 "metadata": {
  "kernelspec": {
   "display_name": "Python 3 (ipykernel)",
   "language": "python",
   "name": "python3"
  },
  "language_info": {
   "codemirror_mode": {
    "name": "ipython",
    "version": 3
   },
   "file_extension": ".py",
   "mimetype": "text/x-python",
   "name": "python",
   "nbconvert_exporter": "python",
   "pygments_lexer": "ipython3",
   "version": "3.11.5"
  }
 },
 "nbformat": 4,
 "nbformat_minor": 5
}
